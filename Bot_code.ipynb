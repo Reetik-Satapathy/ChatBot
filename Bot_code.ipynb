import google.generativeai as genai
from IPython.display import display
from IPython.display import Markdown
import textwrap
import random
from google.colab import userdata


GOOGLE_API_KEY=userdata.get('GOOGLE_API_KEY')

genai.configure(api_key=GOOGLE_API_KEY)

model = genai.GenerativeModel('gemini-pro')
chat = model.start_chat(history=[])

config = {"max_output_tokens": 100,
          "temperature": 0.5,
          "top_p": 1,
          "top_k": 32
          }


def get_response(question):
    answer = model.generate_content(question, generation_config=config, stream=True)
    return answer


def to_markdown(text):
    text = text.replace('•', '  *')
    return Markdown(textwrap.indent(text, '> ', predicate=lambda _: True))


error_responses = [
    "I'm sorry, but this topic is a bit too sensitive for me to handle. I'm committed to staying away from potentially harmful or inappropriate content.",
    "I'm not able to explore that area right now. I'm designed to be responsible and avoid any sensitive or harmful language.",
    "I'm programmed to steer clear of topics that might be sensitive or inappropriate. Let's try a different approach, shall we?",
    "I'm not comfortable discussing that topic. It's important for me to maintain a safe and respectful conversation space.",
    "I'm not the best resource for that type of conversation. I'm focused on providing positive and helpful interactions.",
    "I'm sorry, but this prompt involves a sensitive topic and I'm not allowed to generate responses that are potentially harmful or inappropriate."
]


print("Gemini: Hello! How can i help you today?")
while True:
    user_input = input("You: ")
    if user_input.lower() == "bye":
        break
    try:
        response = chat.send_message(user_input)
        clean=to_markdown(response.text)
        display(clean)
    except Exception as e:
        error_response = random.choice(error_responses)
        random.shuffle(error_responses)
        print("Gemini:", error_response)
